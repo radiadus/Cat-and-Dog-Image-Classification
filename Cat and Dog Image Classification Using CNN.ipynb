{
 "cells": [
  {
   "cell_type": "code",
   "execution_count": 1,
   "id": "fc6e2c2e",
   "metadata": {},
   "outputs": [
    {
     "name": "stdout",
     "output_type": "stream",
     "text": [
      "Train Shape: (24946, 100, 100)\n",
      "Target Shape: (24946,)\n"
     ]
    }
   ],
   "source": [
    "# Import libraries\n",
    "import cv2 as cv\n",
    "import os\n",
    "import io\n",
    "from matplotlib import pyplot as plt\n",
    "import numpy as np\n",
    "\n",
    "x_train = []\n",
    "y_train =[]\n",
    "\n",
    "# Upload dan read file\n",
    "\n",
    "# Cat\n",
    "base_path_cat = 'PetImages/Cat/'\n",
    "  \n",
    "for i, image_path in enumerate (os.listdir(base_path_cat)):\n",
    "\n",
    "    img = cv.imread(base_path_cat+image_path)\n",
    "    \n",
    "    if img is None:\n",
    "        continue\n",
    "    \n",
    "    img = cv.resize(img, (100,100))\n",
    "    img = cv.cvtColor(img, cv.COLOR_BGR2GRAY)\n",
    "    \n",
    "    x_train.append(img)\n",
    "        \n",
    "    y_train.append(0) # 0  = cat\n",
    "\n",
    "# Dog\n",
    "base_path_cat = 'PetImages/Dog/'\n",
    "  \n",
    "for i, image_path in enumerate (os.listdir(base_path_cat)):\n",
    "\n",
    "    img = cv.imread(base_path_cat+image_path)\n",
    "    \n",
    "    if img is None:\n",
    "        continue\n",
    "    \n",
    "    img = cv.resize(img, (100,100))\n",
    "    img = cv.cvtColor(img, cv.COLOR_BGR2GRAY)\n",
    "    \n",
    "    x_train.append(img)\n",
    "        \n",
    "    y_train.append(1) # 1  = dog\n",
    "\n",
    "x_train = np.array(x_train)\n",
    "y_train = np.asarray(y_train)\n",
    "\n",
    "print(\"Train Shape: {}\".format(x_train.shape))\n",
    "print(\"Target Shape: {}\".format(y_train.shape))"
   ]
  },
  {
   "cell_type": "code",
   "execution_count": 2,
   "id": "aac7dcaa",
   "metadata": {},
   "outputs": [
    {
     "name": "stdout",
     "output_type": "stream",
     "text": [
      "(19956, 100, 100)\n",
      "(4990, 100, 100)\n",
      "(19956,)\n",
      "(4990,)\n"
     ]
    }
   ],
   "source": [
    "# Split training dan testing dataset\n",
    "from sklearn.model_selection import train_test_split\n",
    "\n",
    "x_train, x_test, y_train, y_test = train_test_split(x_train, y_train, test_size = 0.2)\n",
    "print(x_train.shape)\n",
    "print(x_test.shape)\n",
    "print(y_train.shape)\n",
    "print(y_test.shape)"
   ]
  },
  {
   "cell_type": "code",
   "execution_count": 3,
   "id": "0f03698a",
   "metadata": {},
   "outputs": [
    {
     "data": {
      "text/plain": [
       "((19956, 100, 100, 1), (4990, 100, 100, 1))"
      ]
     },
     "execution_count": 3,
     "metadata": {},
     "output_type": "execute_result"
    }
   ],
   "source": [
    "# Reshape features\n",
    "x_train = x_train.reshape(-1, 100,100, 1)\n",
    "x_test = x_test.reshape(-1, 100,100, 1)\n",
    "x_train.shape, x_test.shape"
   ]
  },
  {
   "cell_type": "code",
   "execution_count": 4,
   "id": "6e57a4a2",
   "metadata": {},
   "outputs": [],
   "source": [
    "x_train = x_train.astype('float32')\n",
    "x_test = x_test.astype('float32')\n",
    "\n",
    "# Scaling features menjadi 0 hingga 1\n",
    "x_train = x_train / 255.\n",
    "x_test = x_test / 255.\n",
    "\n",
    "# Menggunakan bantuan OneHotEncoder pada target\n",
    "from sklearn.preprocessing import OneHotEncoder\n",
    "y_train = y_train.reshape(-1, 1)\n",
    "y_test = y_test.reshape(-1, 1)\n",
    "y_train = OneHotEncoder(sparse=False).fit_transform(y_train)\n",
    "y_test = OneHotEncoder(sparse=False).fit_transform(y_test)"
   ]
  },
  {
   "cell_type": "code",
   "execution_count": 5,
   "id": "bb803421",
   "metadata": {},
   "outputs": [
    {
     "name": "stdout",
     "output_type": "stream",
     "text": [
      "Model: \"sequential\"\n",
      "_________________________________________________________________\n",
      " Layer (type)                Output Shape              Param #   \n",
      "=================================================================\n",
      " conv2d (Conv2D)             (None, 100, 100, 16)      160       \n",
      "                                                                 \n",
      " activation (Activation)     (None, 100, 100, 16)      0         \n",
      "                                                                 \n",
      " max_pooling2d (MaxPooling2D  (None, 50, 50, 16)       0         \n",
      " )                                                               \n",
      "                                                                 \n",
      " conv2d_1 (Conv2D)           (None, 50, 50, 32)        4640      \n",
      "                                                                 \n",
      " activation_1 (Activation)   (None, 50, 50, 32)        0         \n",
      "                                                                 \n",
      " max_pooling2d_1 (MaxPooling  (None, 25, 25, 32)       0         \n",
      " 2D)                                                             \n",
      "                                                                 \n",
      " conv2d_2 (Conv2D)           (None, 25, 25, 64)        18496     \n",
      "                                                                 \n",
      " batch_normalization (BatchN  (None, 25, 25, 64)       256       \n",
      " ormalization)                                                   \n",
      "                                                                 \n",
      " activation_2 (Activation)   (None, 25, 25, 64)        0         \n",
      "                                                                 \n",
      " max_pooling2d_2 (MaxPooling  (None, 13, 13, 64)       0         \n",
      " 2D)                                                             \n",
      "                                                                 \n",
      " flatten (Flatten)           (None, 10816)             0         \n",
      "                                                                 \n",
      " dropout (Dropout)           (None, 10816)             0         \n",
      "                                                                 \n",
      " dense (Dense)               (None, 64)                692288    \n",
      "                                                                 \n",
      " activation_3 (Activation)   (None, 64)                0         \n",
      "                                                                 \n",
      " dense_1 (Dense)             (None, 2)                 130       \n",
      "                                                                 \n",
      " activation_4 (Activation)   (None, 2)                 0         \n",
      "                                                                 \n",
      "=================================================================\n",
      "Total params: 715,970\n",
      "Trainable params: 715,842\n",
      "Non-trainable params: 128\n",
      "_________________________________________________________________\n",
      "Epoch 1/20\n",
      "273/273 [==============================] - 11s 23ms/step - loss: 0.6474 - accuracy: 0.6553 - val_loss: 0.6507 - val_accuracy: 0.7022\n",
      "Epoch 2/20\n",
      "273/273 [==============================] - 6s 21ms/step - loss: 0.4983 - accuracy: 0.7589 - val_loss: 0.5445 - val_accuracy: 0.7146\n",
      "Epoch 3/20\n",
      "273/273 [==============================] - 5s 20ms/step - loss: 0.4547 - accuracy: 0.7875 - val_loss: 0.4732 - val_accuracy: 0.7832\n",
      "Epoch 4/20\n",
      "273/273 [==============================] - 6s 21ms/step - loss: 0.4015 - accuracy: 0.8202 - val_loss: 0.4195 - val_accuracy: 0.8028\n",
      "Epoch 5/20\n",
      "273/273 [==============================] - 6s 22ms/step - loss: 0.3713 - accuracy: 0.8343 - val_loss: 0.3987 - val_accuracy: 0.8164\n",
      "Epoch 6/20\n",
      "273/273 [==============================] - 6s 21ms/step - loss: 0.3333 - accuracy: 0.8568 - val_loss: 0.3796 - val_accuracy: 0.8321\n",
      "Epoch 7/20\n",
      "273/273 [==============================] - 6s 22ms/step - loss: 0.3093 - accuracy: 0.8674 - val_loss: 0.6141 - val_accuracy: 0.7415\n",
      "Epoch 8/20\n",
      "273/273 [==============================] - 6s 22ms/step - loss: 0.2850 - accuracy: 0.8774 - val_loss: 0.4174 - val_accuracy: 0.8100\n",
      "Epoch 9/20\n",
      "273/273 [==============================] - 6s 22ms/step - loss: 0.2586 - accuracy: 0.8911 - val_loss: 0.4150 - val_accuracy: 0.8277\n",
      "Epoch 10/20\n",
      "273/273 [==============================] - 6s 22ms/step - loss: 0.2375 - accuracy: 0.8997 - val_loss: 0.8175 - val_accuracy: 0.7166\n",
      "Epoch 11/20\n",
      "273/273 [==============================] - 6s 22ms/step - loss: 0.2102 - accuracy: 0.9129 - val_loss: 0.4614 - val_accuracy: 0.8068\n",
      "Epoch 12/20\n",
      "273/273 [==============================] - 6s 22ms/step - loss: 0.1978 - accuracy: 0.9179 - val_loss: 0.4308 - val_accuracy: 0.8333\n",
      "Epoch 13/20\n",
      "273/273 [==============================] - 6s 23ms/step - loss: 0.1846 - accuracy: 0.9233 - val_loss: 0.4360 - val_accuracy: 0.8373\n",
      "Epoch 14/20\n",
      "273/273 [==============================] - 6s 24ms/step - loss: 0.1708 - accuracy: 0.9313 - val_loss: 0.4229 - val_accuracy: 0.8313\n",
      "Epoch 15/20\n",
      "273/273 [==============================] - 6s 24ms/step - loss: 0.1554 - accuracy: 0.9371 - val_loss: 0.4269 - val_accuracy: 0.8429\n",
      "Epoch 16/20\n",
      "273/273 [==============================] - 7s 24ms/step - loss: 0.1396 - accuracy: 0.9435 - val_loss: 0.4689 - val_accuracy: 0.8293\n",
      "Epoch 17/20\n",
      "273/273 [==============================] - 6s 24ms/step - loss: 0.1314 - accuracy: 0.9478 - val_loss: 0.6041 - val_accuracy: 0.7880\n",
      "Epoch 18/20\n",
      "273/273 [==============================] - 6s 23ms/step - loss: 0.1171 - accuracy: 0.9536 - val_loss: 0.5413 - val_accuracy: 0.8265\n",
      "Epoch 19/20\n",
      "273/273 [==============================] - 6s 23ms/step - loss: 0.1200 - accuracy: 0.9522 - val_loss: 0.5119 - val_accuracy: 0.8317\n",
      "Epoch 20/20\n",
      "273/273 [==============================] - 6s 23ms/step - loss: 0.1205 - accuracy: 0.9503 - val_loss: 0.5425 - val_accuracy: 0.8349\n"
     ]
    }
   ],
   "source": [
    "import tensorflow as tf\n",
    "from tensorflow.keras.models import Sequential\n",
    "from tensorflow.keras.layers import Dense, Dropout, Activation, Flatten, Conv2D, MaxPooling2D, BatchNormalization\n",
    "\n",
    "# Membuat Model CNN dengan 3 layer Convolusi + Relu + Maxpooling\n",
    "model = Sequential()\n",
    "model.add(Conv2D(16, (3, 3), input_shape =x_train.shape[1:], padding=\"same\"))\n",
    "model.add(Activation(\"relu\"))\n",
    "model.add(MaxPooling2D(pool_size = (2,2), strides=2, padding=\"same\"))\n",
    "\n",
    "model.add(Conv2D(32, (3, 3), padding=\"same\"))\n",
    "model.add(Activation(\"relu\"))\n",
    "model.add(MaxPooling2D(pool_size = (2,2), strides=2, padding=\"same\"))\n",
    "\n",
    "model.add(Conv2D(64, (3, 3), padding=\"same\"))\n",
    "model.add(BatchNormalization()) # Batch Normalization\n",
    "model.add(Activation(\"relu\"))\n",
    "model.add(MaxPooling2D(pool_size = (2,2), strides=2, padding=\"same\"))\n",
    "\n",
    "model.add(Flatten())\n",
    "model.add(Dropout(0.2))\n",
    "model.add(Dense(64))\n",
    "model.add(Activation('relu'))\n",
    "\n",
    "model.add(Dense(2))\n",
    "model.add(Activation('sigmoid'))\n",
    "model.summary()\n",
    "\n",
    "# loss dengan categorial crossentropy dan optimizer dengan adam\n",
    "model.compile(loss=\"categorical_crossentropy\",\n",
    "             optimizer=\"adam\",\n",
    "             metrics=['accuracy'])\n",
    "\n",
    "history = model.fit(x_train, y_train, batch_size=64, epochs=20, validation_split=0.125)"
   ]
  },
  {
   "cell_type": "code",
   "execution_count": 6,
   "id": "162b6909",
   "metadata": {},
   "outputs": [
    {
     "data": {
      "text/plain": [
       "(array([1, 0, 0, ..., 0, 1, 1], dtype=int64),\n",
       " array([1, 0, 1, ..., 0, 1, 1], dtype=int64))"
      ]
     },
     "execution_count": 6,
     "metadata": {},
     "output_type": "execute_result"
    }
   ],
   "source": [
    "# Print hasil prediksi dengan data test\n",
    "import numpy as np\n",
    "from sklearn.metrics import confusion_matrix\n",
    "y_pred = model.predict(x_test)\n",
    "y_pred = np.asarray(tf.argmax(y_pred, axis = 1))\n",
    "y_test = np.asarray(tf.argmax(y_test, axis = 1))\n",
    "y_pred, y_test"
   ]
  },
  {
   "cell_type": "code",
   "execution_count": 7,
   "id": "3ac7b4e6",
   "metadata": {},
   "outputs": [
    {
     "name": "stdout",
     "output_type": "stream",
     "text": [
      "[[2115  385]\n",
      " [ 451 2039]]\n"
     ]
    }
   ],
   "source": [
    "# Print Confusion Matrix\n",
    "print(confusion_matrix(y_test, y_pred))"
   ]
  },
  {
   "cell_type": "code",
   "execution_count": 8,
   "id": "5df34fca",
   "metadata": {},
   "outputs": [
    {
     "name": "stdout",
     "output_type": "stream",
     "text": [
      "0.8324649298597194\n"
     ]
    }
   ],
   "source": [
    "# Print Skor Akurasi Testing\n",
    "from sklearn.metrics import accuracy_score\n",
    "print(accuracy_score(y_test, y_pred))"
   ]
  },
  {
   "cell_type": "code",
   "execution_count": 9,
   "id": "47880496",
   "metadata": {},
   "outputs": [
    {
     "data": {
      "text/plain": [
       "<function matplotlib.pyplot.show(close=None, block=None)>"
      ]
     },
     "execution_count": 9,
     "metadata": {},
     "output_type": "execute_result"
    },
    {
     "data": {
      "image/png": "[encoded data removed]",
      "text/plain": [
       "<Figure size 432x288 with 1 Axes>"
      ]
     },
     "metadata": {
      "needs_background": "light"
     },
     "output_type": "display_data"
    }
   ],
   "source": [
    "# Plotting Akurasi testing dan Akurasi validasi \n",
    "plt.plot(history.history['accuracy'], color=\"red\")\n",
    "plt.plot(history.history['val_accuracy'], color='green')\n",
    "plt.axis([0,20,0,1])\n",
    "plt.show"
   ]
  },
  {
   "cell_type": "code",
   "execution_count": 10,
   "id": "b728ea9b",
   "metadata": {},
   "outputs": [
    {
     "data": {
      "text/plain": [
       "<function matplotlib.pyplot.show(close=None, block=None)>"
      ]
     },
     "execution_count": 10,
     "metadata": {},
     "output_type": "execute_result"
    },
    {
     "data": {
      "image/png": "[encoded data removed]",
      "text/plain": [
       "<Figure size 432x288 with 1 Axes>"
      ]
     },
     "metadata": {
      "needs_background": "light"
     },
     "output_type": "display_data"
    }
   ],
   "source": [
    "# Plotting loss testing dan loss validasi\n",
    "plt.plot(history.history['loss'], color=\"blue\")\n",
    "plt.plot(history.history['val_loss'], color='gray')\n",
    "plt.show"
   ]
  },
  {
   "cell_type": "code",
   "execution_count": null,
   "id": "bfc155a2",
   "metadata": {},
   "outputs": [],
   "source": []
  }
 ],
 "metadata": {
  "kernelspec": {
   "display_name": "Python 3",
   "language": "python",
   "name": "python3"
  },
  "language_info": {
   "codemirror_mode": {
    "name": "ipython",
    "version": 3
   },
   "file_extension": ".py",
   "mimetype": "text/x-python",
   "name": "python",
   "nbconvert_exporter": "python",
   "pygments_lexer": "ipython3",
   "version": "3.7.6"
  }
 },
 "nbformat": 4,
 "nbformat_minor": 5
}
